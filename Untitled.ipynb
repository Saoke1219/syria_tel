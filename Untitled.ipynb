{
 "cells": [
  {
   "cell_type": "code",
   "execution_count": null,
   "id": "daafacd3",
   "metadata": {},
   "outputs": [],
   "source": []
  },
  {
   "cell_type": "markdown",
   "id": "126ca812",
   "metadata": {},
   "source": [
    "####  1. Import libraries "
   ]
  },
  {
   "cell_type": "code",
   "execution_count": 1,
   "id": "38a4f7d0",
   "metadata": {},
   "outputs": [],
   "source": [
    "import pandas as pd\n",
    "import numpy as np\n",
    "from sklearn.model_selection import train_test_split\n",
    "from sklearn.linear_model import LogisticRegression\n",
    "from sklearn.metrics import confusion_matrix, classification_report\n",
    "from sklearn.model_selection import cross_val_score\n",
    "from sklearn.preprocessing import StandardScaler, OneHotEncoder\n",
    "from sklearn.tree import DecisionTreeClassifier\n",
    "from sklearn.ensemble import RandomForestClassifier\n",
    "import warnings\n",
    "warnings.filterwarnings('ignore')\n",
    "import matplotlib.pyplot as plt\n",
    "import seaborn as sns"
   ]
  },
  {
   "cell_type": "markdown",
   "id": "e5245e07",
   "metadata": {},
   "source": [
    "#### 1. Load data"
   ]
  },
  {
   "cell_type": "code",
   "execution_count": 2,
   "id": "e61d6af0",
   "metadata": {},
   "outputs": [
    {
     "data": {
      "text/html": [
       "<div>\n",
       "<style scoped>\n",
       "    .dataframe tbody tr th:only-of-type {\n",
       "        vertical-align: middle;\n",
       "    }\n",
       "\n",
       "    .dataframe tbody tr th {\n",
       "        vertical-align: top;\n",
       "    }\n",
       "\n",
       "    .dataframe thead th {\n",
       "        text-align: right;\n",
       "    }\n",
       "</style>\n",
       "<table border=\"1\" class=\"dataframe\">\n",
       "  <thead>\n",
       "    <tr style=\"text-align: right;\">\n",
       "      <th></th>\n",
       "      <th>S/N</th>\n",
       "      <th>Year</th>\n",
       "      <th>Age</th>\n",
       "      <th>Menopause</th>\n",
       "      <th>Tumor Size (cm)</th>\n",
       "      <th>Inv-Nodes</th>\n",
       "      <th>Breast</th>\n",
       "      <th>Metastasis</th>\n",
       "      <th>Breast Quadrant</th>\n",
       "      <th>History</th>\n",
       "      <th>Diagnosis Result</th>\n",
       "    </tr>\n",
       "  </thead>\n",
       "  <tbody>\n",
       "    <tr>\n",
       "      <th>0</th>\n",
       "      <td>1</td>\n",
       "      <td>2019</td>\n",
       "      <td>40</td>\n",
       "      <td>1</td>\n",
       "      <td>2</td>\n",
       "      <td>0</td>\n",
       "      <td>Right</td>\n",
       "      <td>0</td>\n",
       "      <td>Upper inner</td>\n",
       "      <td>0</td>\n",
       "      <td>Benign</td>\n",
       "    </tr>\n",
       "    <tr>\n",
       "      <th>1</th>\n",
       "      <td>2</td>\n",
       "      <td>2019</td>\n",
       "      <td>39</td>\n",
       "      <td>1</td>\n",
       "      <td>2</td>\n",
       "      <td>0</td>\n",
       "      <td>Left</td>\n",
       "      <td>0</td>\n",
       "      <td>Upper outer</td>\n",
       "      <td>0</td>\n",
       "      <td>Benign</td>\n",
       "    </tr>\n",
       "    <tr>\n",
       "      <th>2</th>\n",
       "      <td>3</td>\n",
       "      <td>2019</td>\n",
       "      <td>45</td>\n",
       "      <td>0</td>\n",
       "      <td>4</td>\n",
       "      <td>0</td>\n",
       "      <td>Left</td>\n",
       "      <td>0</td>\n",
       "      <td>Lower outer</td>\n",
       "      <td>0</td>\n",
       "      <td>Benign</td>\n",
       "    </tr>\n",
       "    <tr>\n",
       "      <th>3</th>\n",
       "      <td>4</td>\n",
       "      <td>2019</td>\n",
       "      <td>26</td>\n",
       "      <td>1</td>\n",
       "      <td>3</td>\n",
       "      <td>0</td>\n",
       "      <td>Left</td>\n",
       "      <td>0</td>\n",
       "      <td>Lower inner</td>\n",
       "      <td>1</td>\n",
       "      <td>Benign</td>\n",
       "    </tr>\n",
       "    <tr>\n",
       "      <th>4</th>\n",
       "      <td>5</td>\n",
       "      <td>2019</td>\n",
       "      <td>21</td>\n",
       "      <td>1</td>\n",
       "      <td>1</td>\n",
       "      <td>0</td>\n",
       "      <td>Right</td>\n",
       "      <td>0</td>\n",
       "      <td>Upper outer</td>\n",
       "      <td>1</td>\n",
       "      <td>Benign</td>\n",
       "    </tr>\n",
       "  </tbody>\n",
       "</table>\n",
       "</div>"
      ],
      "text/plain": [
       "   S/N  Year  Age  Menopause Tumor Size (cm) Inv-Nodes Breast Metastasis  \\\n",
       "0    1  2019   40          1               2         0  Right          0   \n",
       "1    2  2019   39          1               2         0   Left          0   \n",
       "2    3  2019   45          0               4         0   Left          0   \n",
       "3    4  2019   26          1               3         0   Left          0   \n",
       "4    5  2019   21          1               1         0  Right          0   \n",
       "\n",
       "  Breast Quadrant History Diagnosis Result  \n",
       "0     Upper inner       0           Benign  \n",
       "1     Upper outer       0           Benign  \n",
       "2     Lower outer       0           Benign  \n",
       "3     Lower inner       1           Benign  \n",
       "4     Upper outer       1           Benign  "
      ]
     },
     "execution_count": 2,
     "metadata": {},
     "output_type": "execute_result"
    }
   ],
   "source": [
    "df = pd.read_csv('breast-cancer-dataset.csv')\n",
    "df.head()"
   ]
  },
  {
   "cell_type": "code",
   "execution_count": 3,
   "id": "abc8a2a5",
   "metadata": {},
   "outputs": [
    {
     "name": "stdout",
     "output_type": "stream",
     "text": [
      "<class 'pandas.core.frame.DataFrame'>\n",
      "RangeIndex: 213 entries, 0 to 212\n",
      "Data columns (total 11 columns):\n",
      " #   Column            Non-Null Count  Dtype \n",
      "---  ------            --------------  ----- \n",
      " 0   S/N               213 non-null    int64 \n",
      " 1   Year              213 non-null    object\n",
      " 2   Age               213 non-null    int64 \n",
      " 3   Menopause         213 non-null    int64 \n",
      " 4   Tumor Size (cm)   213 non-null    object\n",
      " 5   Inv-Nodes         213 non-null    object\n",
      " 6   Breast            213 non-null    object\n",
      " 7   Metastasis        213 non-null    object\n",
      " 8   Breast Quadrant   213 non-null    object\n",
      " 9   History           213 non-null    object\n",
      " 10  Diagnosis Result  213 non-null    object\n",
      "dtypes: int64(3), object(8)\n",
      "memory usage: 18.4+ KB\n",
      "None\n"
     ]
    }
   ],
   "source": [
    "print(df.info())"
   ]
  },
  {
   "cell_type": "markdown",
   "id": "82ba493a",
   "metadata": {},
   "source": [
    "#### 1. Data cleaning "
   ]
  },
  {
   "cell_type": "code",
   "execution_count": 4,
   "id": "62619dae",
   "metadata": {},
   "outputs": [
    {
     "data": {
      "text/plain": [
       "Index(['S/N', 'Year', 'Age', 'Menopause', 'Tumor Size (cm)', 'Inv-Nodes',\n",
       "       'Breast', 'Metastasis', 'Breast Quadrant', 'History',\n",
       "       'Diagnosis Result'],\n",
       "      dtype='object')"
      ]
     },
     "execution_count": 4,
     "metadata": {},
     "output_type": "execute_result"
    }
   ],
   "source": [
    "df.columns"
   ]
  },
  {
   "cell_type": "markdown",
   "id": "889c96ba",
   "metadata": {},
   "source": [
    "Having white spaces in column names can lead to potential issues in data analysis and processing"
   ]
  },
  {
   "cell_type": "code",
   "execution_count": 5,
   "id": "500b200d",
   "metadata": {},
   "outputs": [
    {
     "name": "stdout",
     "output_type": "stream",
     "text": [
      "Index(['S/N', 'Year', 'Age', 'Menopause', 'TumorSize(cm)', 'Inv-Nodes',\n",
      "       'Breast', 'Metastasis', 'BreastQuadrant', 'History', 'DiagnosisResult'],\n",
      "      dtype='object')\n"
     ]
    }
   ],
   "source": [
    "df.columns = df.columns.str.replace(' ', '')\n",
    "print(df.columns)"
   ]
  },
  {
   "cell_type": "markdown",
   "id": "f624fde9",
   "metadata": {},
   "source": [
    "identify and handle non-numerical values in our numerical columns "
   ]
  },
  {
   "cell_type": "code",
   "execution_count": 6,
   "id": "dacce0dc",
   "metadata": {},
   "outputs": [],
   "source": [
    "# Check for non-numerical values in the entire DataFrame\n",
    "non_numeric_values = ['Year', 'Age', 'Menopause', 'TumorSize(cm)', \n",
    "                    'Inv-Nodes', 'Metastasis', 'History']\n",
    "\n",
    "for col in non_numeric_values:\n",
    "    df[col] = pd.to_numeric(df[col], errors = 'coerce')"
   ]
  },
  {
   "cell_type": "code",
   "execution_count": 7,
   "id": "8f81fa82",
   "metadata": {},
   "outputs": [
    {
     "name": "stdout",
     "output_type": "stream",
     "text": [
      "S/N              0\n",
      "Year             1\n",
      "Age              0\n",
      "Menopause        0\n",
      "TumorSize(cm)    1\n",
      "Inv-Nodes        1\n",
      "Metastasis       1\n",
      "History          2\n",
      "dtype: int64\n"
     ]
    }
   ],
   "source": [
    "num_cols = df.select_dtypes(include='number').columns\n",
    "\n",
    "# Convert selected columns to numeric, errors='coerce' will convert non-numeric values to NaN\n",
    "df[num_cols] = df[num_cols].apply(pd.to_numeric, errors='coerce')\n",
    "\n",
    "# Now you can check for NaN values in the numeric columns, which would indicate non-numeric characters\n",
    "nan_values = df[num_cols].isna().sum()\n",
    "\n",
    "print(nan_values)"
   ]
  },
  {
   "cell_type": "markdown",
   "id": "8ee24f2c",
   "metadata": {},
   "source": [
    "Our remaining columns in our dataset only take two arguments ie. 0, 1,  \"left\" or \"right\".Next step is to assert that this is indeed true."
   ]
  },
  {
   "cell_type": "markdown",
   "id": "02609dc6",
   "metadata": {},
   "source": [
    "##### . DiagnosisResult"
   ]
  },
  {
   "cell_type": "code",
   "execution_count": 8,
   "id": "1642c098",
   "metadata": {},
   "outputs": [
    {
     "data": {
      "text/plain": [
       "array(['Benign', 'Malignant'], dtype=object)"
      ]
     },
     "execution_count": 8,
     "metadata": {},
     "output_type": "execute_result"
    }
   ],
   "source": [
    "df[\"DiagnosisResult\"].unique()"
   ]
  },
  {
   "cell_type": "markdown",
   "id": "2dd25cb9",
   "metadata": {},
   "source": [
    "In Diagnosis result we do not have  a third argumnet  "
   ]
  },
  {
   "cell_type": "markdown",
   "id": "10f914e1",
   "metadata": {},
   "source": [
    "##### . BreastQuadrant"
   ]
  },
  {
   "cell_type": "code",
   "execution_count": 9,
   "id": "f9ddb619",
   "metadata": {},
   "outputs": [
    {
     "data": {
      "text/plain": [
       "array(['Upper inner', 'Upper outer', 'Lower outer', 'Lower inner', '#',\n",
       "       'Upper outer '], dtype=object)"
      ]
     },
     "execution_count": 9,
     "metadata": {},
     "output_type": "execute_result"
    }
   ],
   "source": [
    "df['BreastQuadrant'].unique()"
   ]
  },
  {
   "cell_type": "markdown",
   "id": "ee4be7c7",
   "metadata": {},
   "source": [
    "Above we have found a character '#' as well as a second Upper outer only the difference between the upper outer it has white space. we will replace the # with NaN value the proceed to eliminate the white space so as to eliminate the difference."
   ]
  },
  {
   "cell_type": "code",
   "execution_count": 10,
   "id": "1af37ce2",
   "metadata": {},
   "outputs": [],
   "source": [
    "#eliminate white space\n",
    "df['BreastQuadrant'] = df['BreastQuadrant'].str.replace(' ', '')"
   ]
  },
  {
   "cell_type": "code",
   "execution_count": 11,
   "id": "d8466f28",
   "metadata": {},
   "outputs": [],
   "source": [
    "#replace '#'with NaN value\n",
    "df['BreastQuadrant'] = df['BreastQuadrant'].apply(lambda x: np.nan if x == '#' else x)"
   ]
  },
  {
   "cell_type": "markdown",
   "id": "6595da12",
   "metadata": {},
   "source": [
    "##### . Metastasis"
   ]
  },
  {
   "cell_type": "code",
   "execution_count": 12,
   "id": "5d77a276",
   "metadata": {},
   "outputs": [
    {
     "data": {
      "text/plain": [
       "array([ 0.,  1., nan])"
      ]
     },
     "execution_count": 12,
     "metadata": {},
     "output_type": "execute_result"
    }
   ],
   "source": [
    "df['Metastasis'].unique()"
   ]
  },
  {
   "cell_type": "code",
   "execution_count": 13,
   "id": "5885fb62",
   "metadata": {},
   "outputs": [],
   "source": [
    "#replace '#' with NaN value\n",
    "df['Metastasis'] = df['Metastasis'].apply(lambda x: np.nan if x == '#' else x)"
   ]
  },
  {
   "cell_type": "markdown",
   "id": "622a86dd",
   "metadata": {},
   "source": [
    "##### . Breast"
   ]
  },
  {
   "cell_type": "code",
   "execution_count": 14,
   "id": "fa9eb623",
   "metadata": {},
   "outputs": [
    {
     "data": {
      "text/plain": [
       "array(['Right', 'Left', '#'], dtype=object)"
      ]
     },
     "execution_count": 14,
     "metadata": {},
     "output_type": "execute_result"
    }
   ],
   "source": [
    "df['Breast'].unique()"
   ]
  },
  {
   "cell_type": "code",
   "execution_count": 15,
   "id": "8a42cae8",
   "metadata": {},
   "outputs": [],
   "source": [
    "df['Breast'] = df['Breast'].apply(lambda x: np.nan if x== '#' else x)"
   ]
  },
  {
   "cell_type": "markdown",
   "id": "5f6458ee",
   "metadata": {},
   "source": [
    "##### . Inv-Nodes"
   ]
  },
  {
   "cell_type": "code",
   "execution_count": 16,
   "id": "20b4e1d3",
   "metadata": {},
   "outputs": [
    {
     "data": {
      "text/plain": [
       "array([ 0.,  1., nan,  3.])"
      ]
     },
     "execution_count": 16,
     "metadata": {},
     "output_type": "execute_result"
    }
   ],
   "source": [
    "df['Inv-Nodes'].unique()"
   ]
  },
  {
   "cell_type": "code",
   "execution_count": 17,
   "id": "d5de738b",
   "metadata": {},
   "outputs": [],
   "source": [
    "df['Inv-Nodes'] = df['Inv-Nodes'].apply(lambda x: np.nan if x=='#'else x)"
   ]
  },
  {
   "cell_type": "code",
   "execution_count": 18,
   "id": "80f9916d",
   "metadata": {},
   "outputs": [],
   "source": [
    "df['Inv-Nodes'] = df['Inv-Nodes'].apply(lambda x: np.nan if x=='3'else x)"
   ]
  },
  {
   "cell_type": "markdown",
   "id": "81d727ae",
   "metadata": {},
   "source": [
    "##### .Menopause"
   ]
  },
  {
   "cell_type": "code",
   "execution_count": 19,
   "id": "030795f9",
   "metadata": {},
   "outputs": [
    {
     "data": {
      "text/plain": [
       "array([1, 0])"
      ]
     },
     "execution_count": 19,
     "metadata": {},
     "output_type": "execute_result"
    }
   ],
   "source": [
    "df['Menopause'].unique()"
   ]
  },
  {
   "cell_type": "markdown",
   "id": "08062ba0",
   "metadata": {},
   "source": [
    "finally check for duplicate rows"
   ]
  },
  {
   "cell_type": "code",
   "execution_count": 20,
   "id": "a3e5a286",
   "metadata": {},
   "outputs": [
    {
     "name": "stdout",
     "output_type": "stream",
     "text": [
      "Empty DataFrame\n",
      "Columns: [S/N, Year, Age, Menopause, TumorSize(cm), Inv-Nodes, Breast, Metastasis, BreastQuadrant, History, DiagnosisResult]\n",
      "Index: []\n"
     ]
    }
   ],
   "source": [
    "duplicate_rows = df[df.duplicated()]\n",
    "print(duplicate_rows)"
   ]
  },
  {
   "cell_type": "markdown",
   "id": "8bd6c9c7",
   "metadata": {},
   "source": [
    "Before proceeding with our analysis we will drop the first column as it serves no purpose to the project "
   ]
  },
  {
   "cell_type": "code",
   "execution_count": 21,
   "id": "6592c262",
   "metadata": {},
   "outputs": [
    {
     "data": {
      "text/html": [
       "<div>\n",
       "<style scoped>\n",
       "    .dataframe tbody tr th:only-of-type {\n",
       "        vertical-align: middle;\n",
       "    }\n",
       "\n",
       "    .dataframe tbody tr th {\n",
       "        vertical-align: top;\n",
       "    }\n",
       "\n",
       "    .dataframe thead th {\n",
       "        text-align: right;\n",
       "    }\n",
       "</style>\n",
       "<table border=\"1\" class=\"dataframe\">\n",
       "  <thead>\n",
       "    <tr style=\"text-align: right;\">\n",
       "      <th></th>\n",
       "      <th>Year</th>\n",
       "      <th>Age</th>\n",
       "      <th>Menopause</th>\n",
       "      <th>TumorSize(cm)</th>\n",
       "      <th>Inv-Nodes</th>\n",
       "      <th>Breast</th>\n",
       "      <th>Metastasis</th>\n",
       "      <th>BreastQuadrant</th>\n",
       "      <th>History</th>\n",
       "      <th>DiagnosisResult</th>\n",
       "    </tr>\n",
       "  </thead>\n",
       "  <tbody>\n",
       "    <tr>\n",
       "      <th>0</th>\n",
       "      <td>2019.0</td>\n",
       "      <td>40</td>\n",
       "      <td>1</td>\n",
       "      <td>2.0</td>\n",
       "      <td>0.0</td>\n",
       "      <td>Right</td>\n",
       "      <td>0.0</td>\n",
       "      <td>Upperinner</td>\n",
       "      <td>0.0</td>\n",
       "      <td>Benign</td>\n",
       "    </tr>\n",
       "    <tr>\n",
       "      <th>1</th>\n",
       "      <td>2019.0</td>\n",
       "      <td>39</td>\n",
       "      <td>1</td>\n",
       "      <td>2.0</td>\n",
       "      <td>0.0</td>\n",
       "      <td>Left</td>\n",
       "      <td>0.0</td>\n",
       "      <td>Upperouter</td>\n",
       "      <td>0.0</td>\n",
       "      <td>Benign</td>\n",
       "    </tr>\n",
       "    <tr>\n",
       "      <th>2</th>\n",
       "      <td>2019.0</td>\n",
       "      <td>45</td>\n",
       "      <td>0</td>\n",
       "      <td>4.0</td>\n",
       "      <td>0.0</td>\n",
       "      <td>Left</td>\n",
       "      <td>0.0</td>\n",
       "      <td>Lowerouter</td>\n",
       "      <td>0.0</td>\n",
       "      <td>Benign</td>\n",
       "    </tr>\n",
       "    <tr>\n",
       "      <th>3</th>\n",
       "      <td>2019.0</td>\n",
       "      <td>26</td>\n",
       "      <td>1</td>\n",
       "      <td>3.0</td>\n",
       "      <td>0.0</td>\n",
       "      <td>Left</td>\n",
       "      <td>0.0</td>\n",
       "      <td>Lowerinner</td>\n",
       "      <td>1.0</td>\n",
       "      <td>Benign</td>\n",
       "    </tr>\n",
       "    <tr>\n",
       "      <th>4</th>\n",
       "      <td>2019.0</td>\n",
       "      <td>21</td>\n",
       "      <td>1</td>\n",
       "      <td>1.0</td>\n",
       "      <td>0.0</td>\n",
       "      <td>Right</td>\n",
       "      <td>0.0</td>\n",
       "      <td>Upperouter</td>\n",
       "      <td>1.0</td>\n",
       "      <td>Benign</td>\n",
       "    </tr>\n",
       "  </tbody>\n",
       "</table>\n",
       "</div>"
      ],
      "text/plain": [
       "     Year  Age  Menopause  TumorSize(cm)  Inv-Nodes Breast  Metastasis  \\\n",
       "0  2019.0   40          1            2.0        0.0  Right         0.0   \n",
       "1  2019.0   39          1            2.0        0.0   Left         0.0   \n",
       "2  2019.0   45          0            4.0        0.0   Left         0.0   \n",
       "3  2019.0   26          1            3.0        0.0   Left         0.0   \n",
       "4  2019.0   21          1            1.0        0.0  Right         0.0   \n",
       "\n",
       "  BreastQuadrant  History DiagnosisResult  \n",
       "0     Upperinner      0.0          Benign  \n",
       "1     Upperouter      0.0          Benign  \n",
       "2     Lowerouter      0.0          Benign  \n",
       "3     Lowerinner      1.0          Benign  \n",
       "4     Upperouter      1.0          Benign  "
      ]
     },
     "execution_count": 21,
     "metadata": {},
     "output_type": "execute_result"
    }
   ],
   "source": [
    "df = df.drop('S/N', axis = 1)\n",
    "df.head()"
   ]
  },
  {
   "cell_type": "markdown",
   "id": "a19cbe62",
   "metadata": {},
   "source": [
    "Check for missing number of missing values in each column"
   ]
  },
  {
   "cell_type": "code",
   "execution_count": 22,
   "id": "ef7371b3",
   "metadata": {},
   "outputs": [
    {
     "name": "stdout",
     "output_type": "stream",
     "text": [
      "                 0\n",
      "Year             1\n",
      "Age              0\n",
      "Menopause        0\n",
      "TumorSize(cm)    1\n",
      "Inv-Nodes        1\n",
      "Breast           6\n",
      "Metastasis       1\n",
      "BreastQuadrant   2\n",
      "History          2\n",
      "DiagnosisResult  0\n"
     ]
    }
   ],
   "source": [
    "df_null_values = df.isnull().sum().to_frame().rename(columns={'count': 'missing_count'})\n",
    "print(df_null_values)"
   ]
  },
  {
   "cell_type": "code",
   "execution_count": 23,
   "id": "d9570b76",
   "metadata": {},
   "outputs": [
    {
     "name": "stdout",
     "output_type": "stream",
     "text": [
      "       Year  Age  Menopause  TumorSize(cm)  Inv-Nodes Breast  Metastasis  \\\n",
      "30   2019.0   56          0            9.0        1.0   Left         1.0   \n",
      "40      NaN   34          1            NaN        NaN    NaN         NaN   \n",
      "47   2019.0   25          1            5.0        0.0    NaN         0.0   \n",
      "67   2019.0   40          1            1.0        0.0   Left         0.0   \n",
      "143  2020.0   29          1            2.0        0.0    NaN         0.0   \n",
      "164  2020.0   38          1            2.0        0.0    NaN         0.0   \n",
      "166  2020.0   62          0            3.0        1.0    NaN         1.0   \n",
      "178  2020.0   49          1            4.0        0.0    NaN         0.0   \n",
      "\n",
      "    BreastQuadrant  History DiagnosisResult  \n",
      "30             NaN      0.0       Malignant  \n",
      "40             NaN      NaN       Malignant  \n",
      "47      Upperouter      0.0       Malignant  \n",
      "67      Lowerouter      NaN          Benign  \n",
      "143     Lowerinner      1.0          Benign  \n",
      "164     Upperouter      1.0          Benign  \n",
      "166     Upperinner      1.0       Malignant  \n",
      "178     Lowerouter      0.0          Benign  \n"
     ]
    }
   ],
   "source": [
    "null_values = df[df.isnull().any(axis=1)]\n",
    "print(null_values)"
   ]
  },
  {
   "cell_type": "markdown",
   "id": "e9d78532",
   "metadata": {},
   "source": [
    "we will drop the above rowns since this amount is minimal therefor may not affect our model."
   ]
  },
  {
   "cell_type": "code",
   "execution_count": 24,
   "id": "b425a67b",
   "metadata": {},
   "outputs": [],
   "source": [
    "df = df.dropna()"
   ]
  },
  {
   "cell_type": "code",
   "execution_count": 26,
   "id": "4aaca469",
   "metadata": {},
   "outputs": [
    {
     "data": {
      "text/plain": [
       "Year               0\n",
       "Age                0\n",
       "Menopause          0\n",
       "TumorSize(cm)      0\n",
       "Inv-Nodes          0\n",
       "Breast             0\n",
       "Metastasis         0\n",
       "BreastQuadrant     0\n",
       "History            0\n",
       "DiagnosisResult    0\n",
       "dtype: int64"
      ]
     },
     "execution_count": 26,
     "metadata": {},
     "output_type": "execute_result"
    }
   ],
   "source": [
    "#confirm that we have no more missing values\n",
    "df.isnull().sum()"
   ]
  },
  {
   "cell_type": "code",
   "execution_count": 27,
   "id": "c62e9537",
   "metadata": {},
   "outputs": [
    {
     "data": {
      "text/html": [
       "<div>\n",
       "<style scoped>\n",
       "    .dataframe tbody tr th:only-of-type {\n",
       "        vertical-align: middle;\n",
       "    }\n",
       "\n",
       "    .dataframe tbody tr th {\n",
       "        vertical-align: top;\n",
       "    }\n",
       "\n",
       "    .dataframe thead th {\n",
       "        text-align: right;\n",
       "    }\n",
       "</style>\n",
       "<table border=\"1\" class=\"dataframe\">\n",
       "  <thead>\n",
       "    <tr style=\"text-align: right;\">\n",
       "      <th></th>\n",
       "      <th>Year</th>\n",
       "      <th>Age</th>\n",
       "      <th>Menopause</th>\n",
       "      <th>TumorSize(cm)</th>\n",
       "      <th>Inv-Nodes</th>\n",
       "      <th>Breast</th>\n",
       "      <th>Metastasis</th>\n",
       "      <th>BreastQuadrant</th>\n",
       "      <th>History</th>\n",
       "      <th>DiagnosisResult</th>\n",
       "    </tr>\n",
       "  </thead>\n",
       "  <tbody>\n",
       "    <tr>\n",
       "      <th>0</th>\n",
       "      <td>2019.0</td>\n",
       "      <td>40</td>\n",
       "      <td>1</td>\n",
       "      <td>2.0</td>\n",
       "      <td>0.0</td>\n",
       "      <td>Right</td>\n",
       "      <td>0.0</td>\n",
       "      <td>Upperinner</td>\n",
       "      <td>0.0</td>\n",
       "      <td>Benign</td>\n",
       "    </tr>\n",
       "    <tr>\n",
       "      <th>1</th>\n",
       "      <td>2019.0</td>\n",
       "      <td>39</td>\n",
       "      <td>1</td>\n",
       "      <td>2.0</td>\n",
       "      <td>0.0</td>\n",
       "      <td>Left</td>\n",
       "      <td>0.0</td>\n",
       "      <td>Upperouter</td>\n",
       "      <td>0.0</td>\n",
       "      <td>Benign</td>\n",
       "    </tr>\n",
       "    <tr>\n",
       "      <th>2</th>\n",
       "      <td>2019.0</td>\n",
       "      <td>45</td>\n",
       "      <td>0</td>\n",
       "      <td>4.0</td>\n",
       "      <td>0.0</td>\n",
       "      <td>Left</td>\n",
       "      <td>0.0</td>\n",
       "      <td>Lowerouter</td>\n",
       "      <td>0.0</td>\n",
       "      <td>Benign</td>\n",
       "    </tr>\n",
       "    <tr>\n",
       "      <th>3</th>\n",
       "      <td>2019.0</td>\n",
       "      <td>26</td>\n",
       "      <td>1</td>\n",
       "      <td>3.0</td>\n",
       "      <td>0.0</td>\n",
       "      <td>Left</td>\n",
       "      <td>0.0</td>\n",
       "      <td>Lowerinner</td>\n",
       "      <td>1.0</td>\n",
       "      <td>Benign</td>\n",
       "    </tr>\n",
       "    <tr>\n",
       "      <th>4</th>\n",
       "      <td>2019.0</td>\n",
       "      <td>21</td>\n",
       "      <td>1</td>\n",
       "      <td>1.0</td>\n",
       "      <td>0.0</td>\n",
       "      <td>Right</td>\n",
       "      <td>0.0</td>\n",
       "      <td>Upperouter</td>\n",
       "      <td>1.0</td>\n",
       "      <td>Benign</td>\n",
       "    </tr>\n",
       "  </tbody>\n",
       "</table>\n",
       "</div>"
      ],
      "text/plain": [
       "     Year  Age  Menopause  TumorSize(cm)  Inv-Nodes Breast  Metastasis  \\\n",
       "0  2019.0   40          1            2.0        0.0  Right         0.0   \n",
       "1  2019.0   39          1            2.0        0.0   Left         0.0   \n",
       "2  2019.0   45          0            4.0        0.0   Left         0.0   \n",
       "3  2019.0   26          1            3.0        0.0   Left         0.0   \n",
       "4  2019.0   21          1            1.0        0.0  Right         0.0   \n",
       "\n",
       "  BreastQuadrant  History DiagnosisResult  \n",
       "0     Upperinner      0.0          Benign  \n",
       "1     Upperouter      0.0          Benign  \n",
       "2     Lowerouter      0.0          Benign  \n",
       "3     Lowerinner      1.0          Benign  \n",
       "4     Upperouter      1.0          Benign  "
      ]
     },
     "execution_count": 27,
     "metadata": {},
     "output_type": "execute_result"
    }
   ],
   "source": [
    "df2 = df.copy()\n",
    "df2.head()"
   ]
  },
  {
   "cell_type": "code",
   "execution_count": null,
   "id": "18889cb2",
   "metadata": {},
   "outputs": [],
   "source": []
  }
 ],
 "metadata": {
  "kernelspec": {
   "display_name": "Python (learn-env)",
   "language": "python",
   "name": "learn-env"
  },
  "language_info": {
   "codemirror_mode": {
    "name": "ipython",
    "version": 3
   },
   "file_extension": ".py",
   "mimetype": "text/x-python",
   "name": "python",
   "nbconvert_exporter": "python",
   "pygments_lexer": "ipython3",
   "version": "3.8.5"
  }
 },
 "nbformat": 4,
 "nbformat_minor": 5
}
